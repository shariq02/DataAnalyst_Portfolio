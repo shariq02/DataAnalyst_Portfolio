{
 "cells": [
  {
   "cell_type": "code",
   "execution_count": 3,
   "metadata": {},
   "outputs": [],
   "source": [
    "# import libraries \n",
    "\n",
    "from bs4 import BeautifulSoup\n",
    "import requests\n",
    "import time\n",
    "import datetime\n",
    "\n",
    "import smtplib"
   ]
  },
  {
   "cell_type": "code",
   "execution_count": 18,
   "metadata": {},
   "outputs": [
    {
     "ename": "SyntaxError",
     "evalue": "invalid syntax (<ipython-input-18-69c4c048005f>, line 15)",
     "output_type": "error",
     "traceback": [
      "\u001b[1;36m  File \u001b[1;32m\"<ipython-input-18-69c4c048005f>\"\u001b[1;36m, line \u001b[1;32m15\u001b[0m\n\u001b[1;33m    price = soup2.find(class=\"a-price-whole\").get_text()\u001b[0m\n\u001b[1;37m                       ^\u001b[0m\n\u001b[1;31mSyntaxError\u001b[0m\u001b[1;31m:\u001b[0m invalid syntax\n"
     ]
    }
   ],
   "source": [
    "# Connect to Website and pull the data\n",
    "\n",
    "URL = 'https://www.amazon.de/-/en/Samsung-Smartphone-Contract-Burgundy-including/dp/B09QH236LH/?_encoding=UTF8&pd_rd_w=5wGK0&pf_rd_p=41b7e53c-0745-4c02-89a0-d1731ab85153&pf_rd_r=T1M681YHNDW7H34FFV7H&pd_rd_r=fd26101a-04df-4e70-b64d-941dc87df847&pd_rd_wg=yQyWy&ref_=pd_gw_ci_mcx_mr_hp_atf_m&th=1'\n",
    "\n",
    "headers = {\"User-Agent\": \"Mozilla/5.0 (Windows NT 10.0; Win64; x64) AppleWebKit/537.36 (KHTML, like Gecko) Chrome/100.0.4896.75 Safari/537.36\", \"X-Amzn-Trace-Id\": \"Root=1-62563345-28e99c3f488514991fff1ec5\"}\n",
    "\n",
    "page = requests.get(URL, headers=headers)\n",
    "\n",
    "soup1 = BeautifulSoup(page.content, \"html.parser\")\n",
    "\n",
    "soup2 = BeautifulSoup(soup1.prettify(), \"html.parser\")\n",
    "\n",
    "title = soup2.find(id=\"productTitle\").get_text()\n",
    "\n",
    "# price = soup2.find(class=\"a-price-whole\").get_text()\n",
    "\n",
    "# print(soup2)\n",
    "print(title)\n",
    "# print(price)\n"
   ]
  },
  {
   "cell_type": "code",
   "execution_count": null,
   "metadata": {},
   "outputs": [],
   "source": []
  }
 ],
 "metadata": {
  "kernelspec": {
   "display_name": "Python 3",
   "language": "python",
   "name": "python3"
  },
  "language_info": {
   "codemirror_mode": {
    "name": "ipython",
    "version": 3
   },
   "file_extension": ".py",
   "mimetype": "text/x-python",
   "name": "python",
   "nbconvert_exporter": "python",
   "pygments_lexer": "ipython3",
   "version": "3.8.0"
  }
 },
 "nbformat": 4,
 "nbformat_minor": 4
}
